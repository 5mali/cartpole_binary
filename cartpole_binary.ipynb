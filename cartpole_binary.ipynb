{
 "cells": [
  {
   "cell_type": "code",
   "execution_count": 1,
   "metadata": {},
   "outputs": [],
   "source": [
    "# https://github.com/higgsfield/RL-Adventure/"
   ]
  },
  {
   "cell_type": "code",
   "execution_count": 2,
   "metadata": {},
   "outputs": [],
   "source": [
    "%matplotlib inline"
   ]
  },
  {
   "cell_type": "code",
   "execution_count": 3,
   "metadata": {},
   "outputs": [],
   "source": [
    "import yaml\n",
    "import datetime\n",
    "import os \n",
    "from IPython.display import clear_output\n",
    "import matplotlib.pyplot as plt\n",
    "import seaborn as sns\n",
    "sns.set()"
   ]
  },
  {
   "cell_type": "code",
   "execution_count": 4,
   "metadata": {},
   "outputs": [],
   "source": [
    "from torch.utils.tensorboard import SummaryWriter\n",
    "# %tensorboard --port=9706 --logdir ./runs\n",
    "from torchsummary import summary"
   ]
  },
  {
   "cell_type": "code",
   "execution_count": 5,
   "metadata": {},
   "outputs": [],
   "source": [
    "seed_value = 324267 # sys.argv[1]"
   ]
  },
  {
   "cell_type": "code",
   "execution_count": 6,
   "metadata": {},
   "outputs": [
    {
     "name": "stdout",
     "output_type": "stream",
     "text": [
      "EXPERIMENT:  base \tSEED:  324267 \n",
      "LOG PATH:  ./runs/DuDQN/base_256_Naive_1000_freq_100_324267_12172415\n"
     ]
    }
   ],
   "source": [
    "experiment = 'base'\n",
    "# FROM CONFIG FILE\n",
    "config_path =  './configs/' + experiment + '.yaml' # sys.argv[2]\n",
    "config = yaml.safe_load(open(config_path,'r'))\n",
    "\n",
    "# # Writer will output to ./runs/ directory by default\n",
    "log_name = (config['EXP_NAME'] + \n",
    "                '_' + str(config['HIDDEN_LAYER_WIDTH']) + \n",
    "                '_' + config['REPLAY_BUFFER'] + \n",
    "                '_' + str(config['REPLAY_BUFFER_SIZE']) +\n",
    "                '_' + 'freq'\n",
    "                '_' + str(config['TARGET_UPDATE_FREQ']) +\n",
    "                '_' + str(seed_value) + \n",
    "                '_' + datetime.datetime.now().strftime(\"%d%H%M%S\"))\n",
    "\n",
    "log_with_tensorboard = True\n",
    "if log_with_tensorboard:\n",
    "    WRITER_DIR = os.path.join(os.curdir,'runs',config['MODEL_NAME'],log_name)\n",
    "    writer = SummaryWriter(log_dir=WRITER_DIR)\n",
    "    print(\"EXPERIMENT: \", experiment, \"\\tSEED: \", seed_value, \"\\nLOG PATH: \", (WRITER_DIR))"
   ]
  },
  {
   "cell_type": "code",
   "execution_count": 7,
   "metadata": {},
   "outputs": [
    {
     "name": "stdout",
     "output_type": "stream",
     "text": [
      "EXP_NAME: base\n",
      "USE_GPU: True\n",
      "EPSILON_START: 1.0\n",
      "EPSILON_FINAL: 0.01\n",
      "EPSILON_DECAY: 500\n",
      "HIDDEN_LAYER_WIDTH: 256\n",
      "BATCH_SIZE: 32\n",
      "TIMESTEPS: 100000\n",
      "REPLAY_BUFFER: Naive\n",
      "REPLAY_BUFFER_SIZE: 1000\n",
      "TARGET_UPDATE_FREQ: 100\n",
      "GAMMA: 0.99\n",
      "MODEL_NAME: DuDQN\n",
      "OPTIMIZER: Adam\n",
      "LEARNING_RATE: 0.001\n",
      "CRITERION: MSE\n"
     ]
    }
   ],
   "source": [
    "# Print values in configuration YAML file\n",
    "param_value = []\n",
    "for each_param in config:\n",
    "    param_value.append(\"\".join([each_param, ': ', str(config[each_param])]))\n",
    "pretty_output = \"\\n\".join(param_value)\n",
    "print(pretty_output)"
   ]
  },
  {
   "cell_type": "code",
   "execution_count": 8,
   "metadata": {},
   "outputs": [],
   "source": [
    "import math\n",
    "import random \n",
    "import numpy as np \n",
    "\n",
    "import torch\n",
    "import torch.nn as nn\n",
    "import torch.optim as optim\n",
    "import torch.autograd as autograd \n",
    "import torch.nn.functional as F"
   ]
  },
  {
   "cell_type": "code",
   "execution_count": 9,
   "metadata": {
    "jupyter": {
     "source_hidden": true
    }
   },
   "outputs": [],
   "source": [
    "os.environ['PYTHONHASHSEED']=str(seed_value) \n",
    "random.seed(seed_value) \n",
    "np.random.seed(seed_value) \n",
    "torch.manual_seed(seed_value)\n",
    "torch.backends.cudnn.deterministic = True\n",
    "torch.backends.cudnn.benchmark = False"
   ]
  },
  {
   "cell_type": "code",
   "execution_count": 10,
   "metadata": {
    "jupyter": {
     "source_hidden": true
    }
   },
   "outputs": [],
   "source": [
    "import gym\n",
    "# CartPole-v0 Environment\n",
    "env_id = \"CartPole-v0\"\n",
    "env = gym.make(env_id)\n",
    "env.seed(seed_value);"
   ]
  },
  {
   "cell_type": "code",
   "execution_count": 11,
   "metadata": {
    "jupyter": {
     "source_hidden": true
    }
   },
   "outputs": [],
   "source": [
    "USE_GPU = config['USE_GPU']\n",
    "\n",
    "# Use CUDA\n",
    "USE_CUDA = torch.cuda.is_available() and USE_GPU\n",
    "\n",
    "if USE_CUDA:\n",
    "    torch.cuda.manual_seed(seed_value)\n",
    "    device = torch.device('cuda')\n",
    "else:\n",
    "    device = torch.device('cpu')"
   ]
  },
  {
   "cell_type": "code",
   "execution_count": 12,
   "metadata": {
    "jupyter": {
     "source_hidden": true
    }
   },
   "outputs": [
    {
     "name": "stdout",
     "output_type": "stream",
     "text": [
      "PYTORCH:  1.2.0\n",
      "CUDA:  True\n",
      "DEVICE :  cuda\n"
     ]
    }
   ],
   "source": [
    "print(\"PYTORCH: \", torch.__version__)\n",
    "print(\"CUDA: \", torch.cuda.is_available())\n",
    "print(\"DEVICE : \", device )"
   ]
  },
  {
   "cell_type": "code",
   "execution_count": 13,
   "metadata": {
    "jupyter": {
     "source_hidden": true
    }
   },
   "outputs": [],
   "source": [
    "# REPLAY BUFFER\n",
    "\n",
    "from collections import deque\n",
    "\n",
    "class ReplayBuffer(object):\n",
    "    def __init__(self, capacity):\n",
    "        self.buffer = deque(maxlen=capacity)\n",
    "        self.omnibuffer = deque() # no limit in memory. Remembers everything\n",
    "    \n",
    "    def push(self, state, action, reward, next_state, done):\n",
    "        # PyTorch only accepts mini-batches and not single observations so we have to use unsqueeze to add\n",
    "        # a \"fake\" dimension to make it a mini-batch rather than a single observation\n",
    "        state      = np.expand_dims(state, 0)\n",
    "        next_state = np.expand_dims(next_state, 0)\n",
    "            \n",
    "        self.buffer.append((state, action, reward, next_state, done))\n",
    "        self.omnibuffer.append((state, action, reward, next_state, done))\n",
    "\n",
    "    \n",
    "    def sample(self, batch_size):\n",
    "        state, action, reward, next_state, done = zip(*random.sample(self.buffer, batch_size))\n",
    "        return np.concatenate(state), action, reward, np.concatenate(next_state), done\n",
    "    \n",
    "    def __len__(self):\n",
    "        return len(self.buffer)\n",
    "\n",
    "class NaivePrioritizedBuffer(object):\n",
    "    def __init__(self, capacity, prob_alpha=0.6):\n",
    "        self.prob_alpha = prob_alpha\n",
    "        self.capacity   = capacity\n",
    "        self.buffer     = []\n",
    "        self.omnibuffer = [] # no limit in memory. Remembers everything\n",
    "        self.pos        = 0\n",
    "        self.priorities = np.zeros((capacity,), dtype=np.float32)\n",
    "    \n",
    "    def push(self, state, action, reward, next_state, done):\n",
    "        assert state.ndim == next_state.ndim\n",
    "        state      = np.expand_dims(state, 0)\n",
    "        next_state = np.expand_dims(next_state, 0)\n",
    "        \n",
    "        # Get max priorities\n",
    "        # if self.buffer is empty, max_prio = maximum prioriities\n",
    "        max_prio = self.priorities.max() if self.buffer else 1.0\n",
    "        \n",
    "        # Append new experience to buffer\n",
    "        self.omnibuffer.append((state, action, reward, next_state, done))\n",
    "        if len(self.buffer) < self.capacity:\n",
    "            self.buffer.append((state, action, reward, next_state, done))\n",
    "        else:\n",
    "            self.buffer[self.pos] = (state, action, reward, next_state, done)\n",
    "        \n",
    "        # All new experiences are given maximum priorities\n",
    "        self.priorities[self.pos] = max_prio\n",
    "        self.pos = (self.pos + 1) % self.capacity\n",
    "    \n",
    "    def sample(self, batch_size, beta=0.4):\n",
    "        if len(self.buffer) == self.capacity:\n",
    "            prios = self.priorities\n",
    "        else:\n",
    "            prios = self.priorities[:self.pos]\n",
    "        \n",
    "        #Normalize probs\n",
    "        probs  = prios ** self.prob_alpha\n",
    "        probs /= probs.sum()\n",
    "        \n",
    "        # Choose indices to create a batch using probability=probs\n",
    "        indices = np.random.choice(len(self.buffer), \n",
    "                                   size=batch_size, \n",
    "                                   p=probs)\n",
    "        samples = [self.buffer[idx] for idx in indices]\n",
    "        \n",
    "        # Weights for Importance Sampling\n",
    "        total    = len(self.buffer)\n",
    "        weights  = (total * probs[indices]) ** (-beta)\n",
    "        weights /= weights.max()\n",
    "        weights  = np.array(weights, dtype=np.float32)\n",
    "        \n",
    "        batch       = list(zip(*samples))\n",
    "        '''\n",
    "        The * in a function call \"unpacks\" a list (or other iterable), \n",
    "        making each of its elements a separate argument.\n",
    "        '''\n",
    "        states      = np.concatenate(batch[0])\n",
    "        actions     = batch[1]\n",
    "        rewards     = batch[2]\n",
    "        next_states = np.concatenate(batch[3])\n",
    "        dones       = batch[4]\n",
    "        \n",
    "        return states, actions, rewards, next_states, dones, indices, weights\n",
    "    \n",
    "    def update_priorities(self, batch_indices, batch_priorities):\n",
    "        for idx, prio in zip(batch_indices, batch_priorities):\n",
    "            self.priorities[idx] = prio\n",
    "\n",
    "    def __len__(self):\n",
    "        return len(self.buffer)"
   ]
  },
  {
   "cell_type": "code",
   "execution_count": 14,
   "metadata": {
    "jupyter": {
     "source_hidden": true
    }
   },
   "outputs": [],
   "source": [
    "beta_start = 0.4\n",
    "beta_timesteps = 1000 \n",
    "beta_by_timestep = lambda timestep_idx: min(1.0, beta_start + timestep_idx * (1.0 - beta_start) / beta_timesteps)"
   ]
  },
  {
   "cell_type": "code",
   "execution_count": 15,
   "metadata": {
    "jupyter": {
     "source_hidden": true
    }
   },
   "outputs": [],
   "source": [
    "# plt.plot([beta_by_timestep(i) for i in range(10000)])"
   ]
  },
  {
   "cell_type": "code",
   "execution_count": 16,
   "metadata": {
    "jupyter": {
     "source_hidden": true
    }
   },
   "outputs": [],
   "source": [
    "class DQN(nn.Module): #base model\n",
    "    def __init__(self, num_inputs, num_actions, HIDDEN_LAYER_WIDTH):\n",
    "        super(DQN, self).__init__()\n",
    "        \n",
    "        self.action_dim = num_actions\n",
    "        \n",
    "        self.layers = nn.Sequential(\n",
    "            nn.Linear(num_inputs, HIDDEN_LAYER_WIDTH),\n",
    "            nn.ReLU(),\n",
    "            nn.Linear(HIDDEN_LAYER_WIDTH, HIDDEN_LAYER_WIDTH),\n",
    "            nn.ReLU(),\n",
    "            nn.Linear(HIDDEN_LAYER_WIDTH, num_actions)\n",
    "        )\n",
    "\n",
    "    def forward(self, x):\n",
    "        return self.layers(x)"
   ]
  },
  {
   "cell_type": "code",
   "execution_count": 17,
   "metadata": {
    "jupyter": {
     "source_hidden": true
    }
   },
   "outputs": [],
   "source": [
    "class DuelingDQN(nn.Module):\n",
    "    def __init__(self, num_inputs, num_actions, HIDDEN_LAYER_WIDTH):\n",
    "        super(DuelingDQN, self).__init__()\n",
    "        \n",
    "        self.action_dim = num_actions\n",
    "        \n",
    "        self.feature = nn.Sequential(\n",
    "            nn.Linear(num_inputs, HIDDEN_LAYER_WIDTH),\n",
    "            nn.ReLU()\n",
    "        )\n",
    "        \n",
    "        self.advantage = nn.Sequential(\n",
    "            nn.Linear(HIDDEN_LAYER_WIDTH, HIDDEN_LAYER_WIDTH),\n",
    "            nn.ReLU(),\n",
    "            nn.Linear(HIDDEN_LAYER_WIDTH, num_actions)\n",
    "        )\n",
    "        \n",
    "        self.value = nn.Sequential(\n",
    "            nn.Linear(HIDDEN_LAYER_WIDTH, HIDDEN_LAYER_WIDTH),\n",
    "            nn.ReLU(),\n",
    "            nn.Linear(HIDDEN_LAYER_WIDTH, 1)\n",
    "        )\n",
    "        \n",
    "    def forward(self, x):\n",
    "        x = self.feature(x)\n",
    "        advantage = self.advantage(x)\n",
    "        value     = self.value(x)\n",
    "        return value + advantage  - advantage.mean()\n",
    "    "
   ]
  },
  {
   "cell_type": "code",
   "execution_count": 18,
   "metadata": {
    "jupyter": {
     "source_hidden": true
    }
   },
   "outputs": [],
   "source": [
    "def act(policy_net, device, state, epsilon):\n",
    "    policy_net.eval()\n",
    "    with torch.no_grad():\n",
    "        if random.random() > epsilon:\n",
    "            state   = torch.FloatTensor(state).unsqueeze(dim=0).to(device)\n",
    "            q_values = policy_net(state)\n",
    "            action  = q_values.max(dim=1)[1].item()\n",
    "        else:\n",
    "            action = random.randrange(policy_net.action_dim)\n",
    "    policy_net.train()\n",
    "    return action"
   ]
  },
  {
   "cell_type": "code",
   "execution_count": 19,
   "metadata": {
    "jupyter": {
     "source_hidden": true
    }
   },
   "outputs": [],
   "source": [
    "# e-greedy exploration\n",
    "\n",
    "epsilon_start = config['EPSILON_START']\n",
    "epsilon_final = config['EPSILON_FINAL']\n",
    "epsilon_decay = config['EPSILON_DECAY']\n",
    "\n",
    "epsilon_by_timestep = lambda timestep_idx: epsilon_final + (epsilon_start - epsilon_final) * math.exp(-1. * timestep_idx / epsilon_decay)"
   ]
  },
  {
   "cell_type": "code",
   "execution_count": 20,
   "metadata": {
    "jupyter": {
     "source_hidden": true
    }
   },
   "outputs": [],
   "source": [
    "# plt.plot([epsilon_by_timestep(i) for i in range(10000)])"
   ]
  },
  {
   "cell_type": "code",
   "execution_count": 21,
   "metadata": {
    "jupyter": {
     "source_hidden": true
    }
   },
   "outputs": [],
   "source": [
    "# MODEL\n",
    "if (config['MODEL_NAME']=='D1QN'):\n",
    "    # only one NN for estimating Q-values\n",
    "    policy_net = DQN(env.observation_space.shape[0], \n",
    "                 env.action_space.n,\n",
    "                 config['HIDDEN_LAYER_WIDTH'])\n",
    "    policy_net = policy_net.to(device)\n",
    "\n",
    "\n",
    "elif (config['MODEL_NAME']=='DQN' or config['MODEL_NAME']=='D2QN'):\n",
    "    # one policy_net and one target_net\n",
    "    policy_net = DQN(env.observation_space.shape[0], \n",
    "                 env.action_space.n,\n",
    "                 config['HIDDEN_LAYER_WIDTH'])\n",
    "    policy_net = policy_net.to(device)\n",
    "\n",
    "    target_net = DQN(env.observation_space.shape[0], \n",
    "                 env.action_space.n,\n",
    "                 config['HIDDEN_LAYER_WIDTH'])\n",
    "    target_net = target_net.to(device)\n",
    "\n",
    "elif (config['MODEL_NAME']=='DuDQN' or config['MODEL_NAME']=='DuD2QN'):\n",
    "    # one policy_net and one target_net\n",
    "    policy_net = DuelingDQN(env.observation_space.shape[0], \n",
    "                 env.action_space.n,\n",
    "                 config['HIDDEN_LAYER_WIDTH'])\n",
    "    policy_net = policy_net.to(device)\n",
    "\n",
    "    target_net = DuelingDQN(env.observation_space.shape[0], \n",
    "                 env.action_space.n,\n",
    "                 config['HIDDEN_LAYER_WIDTH'])\n",
    "    target_net = target_net.to(device)\n",
    "    \n",
    "else: #default policy_net is D1QN\n",
    "    # only one NN for estimating Q-values\n",
    "    policy_net = DQN(env.observation_space.shape[0], \n",
    "                 env.action_space.n,\n",
    "                 config['HIDDEN_LAYER_WIDTH'])    \n",
    "    policy_net = policy_net.to(device)\n",
    "\n",
    "\n",
    "# print(policy_net)\n",
    "# summary(policy_net, \n",
    "#         input_size=(env.observation_space.shape[0],),\n",
    "#         batch_size=config['BATCH_SIZE'], \n",
    "#         device='cuda' if USE_CUDA else 'cpu' )"
   ]
  },
  {
   "cell_type": "code",
   "execution_count": 22,
   "metadata": {
    "jupyter": {
     "source_hidden": true
    }
   },
   "outputs": [],
   "source": [
    "# OPTIMIZER\n",
    "if (config['OPTIMIZER']=='Adam'):\n",
    "    optimizer = optim.Adam(policy_net.parameters(), \n",
    "                           lr=config['LEARNING_RATE'])\n",
    "elif (config['OPTIMIZER']=='SGD'):\n",
    "    optimizer = optim.SGD(policy_net.parameters(), \n",
    "                           lr=config['LEARNING_RATE'])\n",
    "else: #default optimizer is Adam\n",
    "    optimizer = optim.Adam(policy_net.parameters(), \n",
    "                           lr=config['LEARNING_RATE'])"
   ]
  },
  {
   "cell_type": "code",
   "execution_count": 23,
   "metadata": {
    "jupyter": {
     "source_hidden": true
    }
   },
   "outputs": [],
   "source": [
    "# CRITERION\n",
    "if (config['CRITERION']=='MSE'):\n",
    "    criterion = nn.MSELoss()\n",
    "elif (config['CRITERION']=='HUBER'):\n",
    "    criterion = nn.SmoothL1Loss()\n",
    "else: #default criterion is MSELoss\n",
    "    criterion = nn.MSELoss()"
   ]
  },
  {
   "cell_type": "code",
   "execution_count": 24,
   "metadata": {
    "jupyter": {
     "source_hidden": true
    }
   },
   "outputs": [],
   "source": [
    "# REPLAY BUFFER\n",
    "if (config['REPLAY_BUFFER'] == 'Naive'):\n",
    "    replay_buffer = ReplayBuffer(capacity=config['REPLAY_BUFFER_SIZE'])\n",
    "elif (config['REPLAY_BUFFER'] == 'NaivePER'):\n",
    "    replay_buffer = NaivePrioritizedBuffer(capacity=config['REPLAY_BUFFER_SIZE'])\n",
    "else:\n",
    "    replay_buffer = ReplayBuffer(capacity=config['REPLAY_BUFFER_SIZE'])"
   ]
  },
  {
   "cell_type": "code",
   "execution_count": 25,
   "metadata": {},
   "outputs": [],
   "source": [
    "def update_target(policy_net, target_net):\n",
    "    target_net.load_state_dict(policy_net.state_dict())\n",
    "    target_net.eval()\n",
    "    \n",
    "def compute_td_loss(batch_size, beta=1.0):\n",
    "    if (config['REPLAY_BUFFER'] == 'Naive'):\n",
    "        state, action, reward, next_state, done = replay_buffer.sample(batch_size)\n",
    "    elif (config['REPLAY_BUFFER'] == 'NaivePER'):\n",
    "        state, action, reward, next_state, done, indices, weights = replay_buffer.sample(batch_size, beta) \n",
    "    else:\n",
    "        state, action, reward, next_state, done = replay_buffer.sample(batch_size)\n",
    "\n",
    "    state      = torch.FloatTensor(np.float32(state)).to(device)\n",
    "    next_state = torch.FloatTensor(np.float32(next_state)).to(device)\n",
    "    action     = torch.LongTensor(action).to(device)\n",
    "    reward     = torch.FloatTensor(reward).to(device)\n",
    "    done       = torch.FloatTensor(done).to(device)\n",
    "    if (config['REPLAY_BUFFER'] == 'NaivePER'):\n",
    "        weights = torch.FloatTensor(weights).to(device)\n",
    "\n",
    "    policy_net.train()\n",
    "    q_values = policy_net(state)\n",
    "    q_value  = q_values.gather(dim=1, index=action.unsqueeze(dim=1)).squeeze(dim=1)\n",
    "\n",
    "    #next_q_value\n",
    "    with torch.no_grad():\n",
    "        if (config['MODEL_NAME']=='D1QN'):\n",
    "            next_q_values = policy_net(next_state)\n",
    "            next_q_value  = next_q_values.max(dim=1)[0]\n",
    "            \n",
    "        elif (config['MODEL_NAME']=='DQN' or config['MODEL_NAME']=='DuDQN'):\n",
    "            target_net.eval()\n",
    "            next_q_values = target_net(next_state)\n",
    "            next_q_value  = next_q_values.max(dim=1)[0]\n",
    "\n",
    "        elif (config['MODEL_NAME']=='D2QN' or config['MODEL_NAME']=='DuD2QN'):\n",
    "            target_net.eval()\n",
    "            next_q_values = policy_net(next_state) #all q-values from current policy_net\n",
    "            next_q_target_values = target_net(next_state) #all q-values from target_net\n",
    "            next_q_value = next_q_target_values.gather(dim=1, \n",
    "                                                      index=torch.max(next_q_values, dim=1)[1].unsqueeze(dim=1)).squeeze(dim=1)\n",
    "            #q-values from target_net by acting greedily on current policy_net (double dqn)\n",
    "\n",
    "        else: #Default is D1QN\n",
    "            next_q_values = policy_net(next_state)\n",
    "            next_q_value  = next_q_values.max(dim=1)[0]\n",
    "    \n",
    "    expected_q_value = reward + gamma * next_q_value * (1 - done)\n",
    "    \n",
    "\n",
    "    # Calculate Loss WITHOUT mean reduction\n",
    "    if (config['CRITERION']=='MSE'):\n",
    "        loss = F.mse_loss(q_value, expected_q_value.detach(), reduction='none')\n",
    "    elif (config['CRITERION']=='HUBER'):\n",
    "        loss = F.smooth_l1_loss(q_value, expected_q_value.detach(), reduction='none')\n",
    "    else: #default criterion is MSELoss\n",
    "        loss = F.mse_loss(q_value, expected_q_value.detach(), reduction='none')\n",
    "    \n",
    "    if (config['REPLAY_BUFFER'] == 'NaivePER'): #Importance Sampling\n",
    "        loss  = loss * weights\n",
    "        prios = loss + 1e-5\n",
    "   \n",
    "    loss = loss.mean()\n",
    "    optimizer.zero_grad()\n",
    "    loss.backward()\n",
    "    if (config['REPLAY_BUFFER'] == 'NaivePER'):\n",
    "        replay_buffer.update_priorities(indices, prios.detach().cpu().numpy())\n",
    "    optimizer.step()\n",
    "    \n",
    "    return loss"
   ]
  },
  {
   "cell_type": "code",
   "execution_count": 26,
   "metadata": {},
   "outputs": [],
   "source": [
    "if (config['MODEL_NAME']=='DQN' or \n",
    "    config['MODEL_NAME']=='D2QN' or \n",
    "    config['MODEL_NAME']=='DuDQN' or\n",
    "    config['MODEL_NAME']=='DuD2QN'):\n",
    "    update_target(policy_net, target_net)"
   ]
  },
  {
   "cell_type": "code",
   "execution_count": 27,
   "metadata": {},
   "outputs": [],
   "source": [
    "# Training\n",
    "num_timesteps = config['TIMESTEPS']\n",
    "batch_size = config['BATCH_SIZE']\n",
    "gamma      = config['GAMMA']\n",
    "\n",
    "episode_len = 0\n",
    "state = env.reset()\n",
    "reward = 0\n",
    "for timestep_idx in range(1, num_timesteps + 1):\n",
    "    epsilon = epsilon_by_timestep(timestep_idx)\n",
    "    action = act(policy_net, device, state, epsilon)\n",
    "    \n",
    "    next_state, x_reward, done, _ = env.step(action)\n",
    "    episode_len += x_reward\n",
    "    \n",
    "    reward = 1 if (done and episode_len >= 195) else 0\n",
    "    replay_buffer.push(state, action, reward, next_state, done)\n",
    "\n",
    "    state = next_state\n",
    "\n",
    "    \n",
    "    if done:\n",
    "        if log_with_tensorboard:\n",
    "            writer.add_scalar('episode_len', episode_len, global_step=timestep_idx)\n",
    "        state = env.reset()    \n",
    "        episode_len = 0\n",
    "        \n",
    "    if len(replay_buffer) > batch_size:\n",
    "       \n",
    "        if (config['REPLAY_BUFFER'] == 'Naive'):\n",
    "            beta = 1\n",
    "            loss = compute_td_loss(batch_size, beta)\n",
    "            \n",
    "        elif (config['REPLAY_BUFFER'] == 'NaivePER'):\n",
    "            beta = beta_by_timestep(timestep_idx)\n",
    "            loss = compute_td_loss(batch_size, beta)\n",
    "            \n",
    "        else:\n",
    "            loss = compute_td_loss(batch_size)\n",
    "            \n",
    "        if log_with_tensorboard:\n",
    "            writer.add_scalar('loss', loss.item(), global_step=timestep_idx)\n",
    "        \n",
    "#     if log_with_tensorboard:\n",
    "#         if timestep_idx % 1000 == 0:\n",
    "#             for name, param in policy_net.named_parameters():\n",
    "#                 if param.requires_grad:\n",
    "#                     writer.add_histogram('policy_net_'+ name, param.data, global_step=timestep_idx)\n",
    "\n",
    "#                 if (config['MODEL_NAME']=='DQN' or \n",
    "#                     config['MODEL_NAME']=='D2QN' or \n",
    "#                     config['MODEL_NAME']=='DuDQN' or\n",
    "#                     config['MODEL_NAME']=='DuD2QN'):\n",
    "#                     for name, param in target_net.named_parameters():\n",
    "#                         if param.requires_grad:\n",
    "#                             writer.add_histogram('target_net_'+ name, param.data, global_step=timestep_idx)        \n",
    "\n",
    "    if (config['MODEL_NAME']=='DQN' or \n",
    "        config['MODEL_NAME']=='D2QN' or \n",
    "        config['MODEL_NAME']=='DuDQN' or\n",
    "        config['MODEL_NAME']=='DuD2QN'):\n",
    "        if timestep_idx % config['TARGET_UPDATE_FREQ'] == 0:\n",
    "            update_target(policy_net, target_net)"
   ]
  },
  {
   "cell_type": "code",
   "execution_count": 28,
   "metadata": {},
   "outputs": [],
   "source": [
    "import pickle\n",
    "\n",
    "# Save Memories\n",
    "MEM_DIR = os.path.join(os.curdir,'memories',config['MODEL_NAME'])\n",
    "if not os.path.exists(MEM_DIR):\n",
    "    os.makedirs(MEM_DIR)\n",
    "MEM_FILE = os.path.join(MEM_DIR, log_name + '.mpk')\n",
    "with open(MEM_FILE, 'wb') as fpw:\n",
    "    pickle.dump(replay_buffer.omnibuffer, fpw)\n",
    "\n",
    "# # Load Memories\n",
    "# with open(MEM_FILE, 'rb') as fpr:\n",
    "#     memories = pickle.load(fpr)\n",
    "            \n",
    "# Save Learned Model Parameters\n",
    "MODEL_DIR = os.path.join(os.curdir,'models',config['MODEL_NAME'])\n",
    "if not os.path.exists(MODEL_DIR):\n",
    "    os.makedirs(MODEL_DIR)\n",
    "MODEL_FILE = os.path.join(MODEL_DIR, log_name + '.pth')\n",
    "torch.save(policy_net.state_dict(), MODEL_FILE)\n",
    "\n",
    "# # Load Learned Model Parameters\n",
    "# model = TheModelClass(*args, **kwargs)\n",
    "# model.load_state_dict(torch.load(MODEL_FILE))\n",
    "# model.eval()\n",
    "\n",
    "# Flush events to Tensorboard\n",
    "if log_with_tensorboard:\n",
    "    writer.flush()\n",
    "    writer.close()"
   ]
  },
  {
   "cell_type": "code",
   "execution_count": null,
   "metadata": {},
   "outputs": [],
   "source": []
  }
 ],
 "metadata": {
  "kernelspec": {
   "display_name": "Python 3",
   "language": "python",
   "name": "python3"
  },
  "language_info": {
   "codemirror_mode": {
    "name": "ipython",
    "version": 3
   },
   "file_extension": ".py",
   "mimetype": "text/x-python",
   "name": "python",
   "nbconvert_exporter": "python",
   "pygments_lexer": "ipython3",
   "version": "3.6.9"
  }
 },
 "nbformat": 4,
 "nbformat_minor": 4
}

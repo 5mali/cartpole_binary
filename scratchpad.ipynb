{
 "cells": [
  {
   "cell_type": "code",
   "execution_count": 27,
   "metadata": {},
   "outputs": [],
   "source": [
    "import yaml\n",
    "import os"
   ]
  },
  {
   "cell_type": "code",
   "execution_count": 28,
   "metadata": {},
   "outputs": [],
   "source": [
    "for model in ['D1QN','DQN','D2QN','DuDQN']:\n",
    "    for width in [64,128,256]:\n",
    "        for batch_size in [16, 32, 64]:\n",
    "            for buffer in ['Naive','NaivePER']:\n",
    "                for buffer_size in [1_000,10_000]:\n",
    "                    for freq in [100, 1000, 5000]:\n",
    "                        for gamma in [0.9, 0.99, 0.999]:\n",
    "                            for optimizer in ['Adam', 'SGD']:\n",
    "                                for lr in [0.001, 0.002, 0.005]:\n",
    "                                    for loss_fn in ['MSE','HUBER']:\n",
    "                                        CONFIG_DIR = os.path.join(os.curdir,'configs',model)\n",
    "                                        if not os.path.exists(CONFIG_DIR):\n",
    "                                            os.makedirs(CONFIG_DIR)\n",
    "                                        CONFIG_NAME = os.path.join(CONFIG_DIR, (model+'_'+\n",
    "                                                                                str(width)+'_'+\n",
    "                                                                                optimizer+'_'+\n",
    "                                                                                str(freq)+'_'+\n",
    "                                                                                loss_fn+'_'+\n",
    "                                                                                str(lr)+'_'+\n",
    "                                                                                buffer+'_'+\n",
    "                                                                                str(buffer_size)+'_'+\n",
    "                                                                                str(gamma)+'_'+\n",
    "                                                                                \".yaml\"))\n",
    "                                        file = open(CONFIG_NAME, 'w')\n",
    "                                        yaml.dump({  'EXP_NAME' : CONFIG_NAME,\n",
    "                                                     'USE_GPU' : True,\n",
    "                                                     'EPSILON_START': 1.0,\n",
    "                                                     'EPSILON_FINAL': 0.01,\n",
    "                                                     'EPSILON_DECAY': 500,\n",
    "                                                     'HIDDEN_LAYER_WIDTH': width,\n",
    "                                                     'BATCH_SIZE': batch_size,\n",
    "                                                     'TIMESTEPS': 100_000,\n",
    "                                                     'REPLAY_BUFFER': buffer,\n",
    "                                                     'REPLAY_BUFFER_SIZE': buffer_size,\n",
    "                                                     'TARGET_UPDATE_FREQ': freq,\n",
    "                                                     'GAMMA': gamma,\n",
    "                                                     'MODEL_NAME': model,\n",
    "                                                     'OPTIMIZER': optimizer,\n",
    "                                                     'LEARNING_RATE': lr,\n",
    "                                                     'CRITERION': loss_fn\n",
    "                                                  },\n",
    "                                                  file,\n",
    "                                                  sort_keys=False)\n",
    "                                        \n",
    "                                        file.close()"
   ]
  }
 ],
 "metadata": {
  "kernelspec": {
   "display_name": "Python 3",
   "language": "python",
   "name": "python3"
  },
  "language_info": {
   "codemirror_mode": {
    "name": "ipython",
    "version": 3
   },
   "file_extension": ".py",
   "mimetype": "text/x-python",
   "name": "python",
   "nbconvert_exporter": "python",
   "pygments_lexer": "ipython3",
   "version": "3.6.9"
  }
 },
 "nbformat": 4,
 "nbformat_minor": 4
}
